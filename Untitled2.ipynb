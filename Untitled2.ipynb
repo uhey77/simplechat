{
  "nbformat": 4,
  "nbformat_minor": 0,
  "metadata": {
    "colab": {
      "provenance": [],
      "authorship_tag": "ABX9TyOV/gw4Q96tlkttSRm0GZHf",
      "include_colab_link": true
    },
    "kernelspec": {
      "name": "python3",
      "display_name": "Python 3"
    },
    "language_info": {
      "name": "python"
    },
    "widgets": {
      "application/vnd.jupyter.widget-state+json": {
        "bc1c161e8b3f416d93086d1691ecefa7": {
          "model_module": "@jupyter-widgets/controls",
          "model_name": "HBoxModel",
          "model_module_version": "1.5.0",
          "state": {
            "_dom_classes": [],
            "_model_module": "@jupyter-widgets/controls",
            "_model_module_version": "1.5.0",
            "_model_name": "HBoxModel",
            "_view_count": null,
            "_view_module": "@jupyter-widgets/controls",
            "_view_module_version": "1.5.0",
            "_view_name": "HBoxView",
            "box_style": "",
            "children": [
              "IPY_MODEL_878e456b92c344a3b41a2d5fa5daa6d8",
              "IPY_MODEL_e9b432e4e9dc4d3c97f803c8d271dce0",
              "IPY_MODEL_b9b4f7d656c745de9b943b53a71e0f04"
            ],
            "layout": "IPY_MODEL_ce1ec9b456dc49e0a6256266f0ddc0e6"
          }
        },
        "878e456b92c344a3b41a2d5fa5daa6d8": {
          "model_module": "@jupyter-widgets/controls",
          "model_name": "HTMLModel",
          "model_module_version": "1.5.0",
          "state": {
            "_dom_classes": [],
            "_model_module": "@jupyter-widgets/controls",
            "_model_module_version": "1.5.0",
            "_model_name": "HTMLModel",
            "_view_count": null,
            "_view_module": "@jupyter-widgets/controls",
            "_view_module_version": "1.5.0",
            "_view_name": "HTMLView",
            "description": "",
            "description_tooltip": null,
            "layout": "IPY_MODEL_0b7e7655a1034e25a0aee8eb3108842e",
            "placeholder": "​",
            "style": "IPY_MODEL_8e1c89cfcca84ca2a5ee5b877952c3c8",
            "value": "config.json: 100%"
          }
        },
        "e9b432e4e9dc4d3c97f803c8d271dce0": {
          "model_module": "@jupyter-widgets/controls",
          "model_name": "FloatProgressModel",
          "model_module_version": "1.5.0",
          "state": {
            "_dom_classes": [],
            "_model_module": "@jupyter-widgets/controls",
            "_model_module_version": "1.5.0",
            "_model_name": "FloatProgressModel",
            "_view_count": null,
            "_view_module": "@jupyter-widgets/controls",
            "_view_module_version": "1.5.0",
            "_view_name": "ProgressView",
            "bar_style": "success",
            "description": "",
            "description_tooltip": null,
            "layout": "IPY_MODEL_9cf169e3224e4e30953ea263b92afaa0",
            "max": 534,
            "min": 0,
            "orientation": "horizontal",
            "style": "IPY_MODEL_5df90e3de60c4ff0a273accba90b2b6f",
            "value": 534
          }
        },
        "b9b4f7d656c745de9b943b53a71e0f04": {
          "model_module": "@jupyter-widgets/controls",
          "model_name": "HTMLModel",
          "model_module_version": "1.5.0",
          "state": {
            "_dom_classes": [],
            "_model_module": "@jupyter-widgets/controls",
            "_model_module_version": "1.5.0",
            "_model_name": "HTMLModel",
            "_view_count": null,
            "_view_module": "@jupyter-widgets/controls",
            "_view_module_version": "1.5.0",
            "_view_name": "HTMLView",
            "description": "",
            "description_tooltip": null,
            "layout": "IPY_MODEL_f6d54dc4ca0a40fda8a98e8da5a8e15e",
            "placeholder": "​",
            "style": "IPY_MODEL_c31678add7f74fbea8c594c7f4903ceb",
            "value": " 534/534 [00:00&lt;00:00, 25.5kB/s]"
          }
        },
        "ce1ec9b456dc49e0a6256266f0ddc0e6": {
          "model_module": "@jupyter-widgets/base",
          "model_name": "LayoutModel",
          "model_module_version": "1.2.0",
          "state": {
            "_model_module": "@jupyter-widgets/base",
            "_model_module_version": "1.2.0",
            "_model_name": "LayoutModel",
            "_view_count": null,
            "_view_module": "@jupyter-widgets/base",
            "_view_module_version": "1.2.0",
            "_view_name": "LayoutView",
            "align_content": null,
            "align_items": null,
            "align_self": null,
            "border": null,
            "bottom": null,
            "display": null,
            "flex": null,
            "flex_flow": null,
            "grid_area": null,
            "grid_auto_columns": null,
            "grid_auto_flow": null,
            "grid_auto_rows": null,
            "grid_column": null,
            "grid_gap": null,
            "grid_row": null,
            "grid_template_areas": null,
            "grid_template_columns": null,
            "grid_template_rows": null,
            "height": null,
            "justify_content": null,
            "justify_items": null,
            "left": null,
            "margin": null,
            "max_height": null,
            "max_width": null,
            "min_height": null,
            "min_width": null,
            "object_fit": null,
            "object_position": null,
            "order": null,
            "overflow": null,
            "overflow_x": null,
            "overflow_y": null,
            "padding": null,
            "right": null,
            "top": null,
            "visibility": null,
            "width": null
          }
        },
        "0b7e7655a1034e25a0aee8eb3108842e": {
          "model_module": "@jupyter-widgets/base",
          "model_name": "LayoutModel",
          "model_module_version": "1.2.0",
          "state": {
            "_model_module": "@jupyter-widgets/base",
            "_model_module_version": "1.2.0",
            "_model_name": "LayoutModel",
            "_view_count": null,
            "_view_module": "@jupyter-widgets/base",
            "_view_module_version": "1.2.0",
            "_view_name": "LayoutView",
            "align_content": null,
            "align_items": null,
            "align_self": null,
            "border": null,
            "bottom": null,
            "display": null,
            "flex": null,
            "flex_flow": null,
            "grid_area": null,
            "grid_auto_columns": null,
            "grid_auto_flow": null,
            "grid_auto_rows": null,
            "grid_column": null,
            "grid_gap": null,
            "grid_row": null,
            "grid_template_areas": null,
            "grid_template_columns": null,
            "grid_template_rows": null,
            "height": null,
            "justify_content": null,
            "justify_items": null,
            "left": null,
            "margin": null,
            "max_height": null,
            "max_width": null,
            "min_height": null,
            "min_width": null,
            "object_fit": null,
            "object_position": null,
            "order": null,
            "overflow": null,
            "overflow_x": null,
            "overflow_y": null,
            "padding": null,
            "right": null,
            "top": null,
            "visibility": null,
            "width": null
          }
        },
        "8e1c89cfcca84ca2a5ee5b877952c3c8": {
          "model_module": "@jupyter-widgets/controls",
          "model_name": "DescriptionStyleModel",
          "model_module_version": "1.5.0",
          "state": {
            "_model_module": "@jupyter-widgets/controls",
            "_model_module_version": "1.5.0",
            "_model_name": "DescriptionStyleModel",
            "_view_count": null,
            "_view_module": "@jupyter-widgets/base",
            "_view_module_version": "1.2.0",
            "_view_name": "StyleView",
            "description_width": ""
          }
        },
        "9cf169e3224e4e30953ea263b92afaa0": {
          "model_module": "@jupyter-widgets/base",
          "model_name": "LayoutModel",
          "model_module_version": "1.2.0",
          "state": {
            "_model_module": "@jupyter-widgets/base",
            "_model_module_version": "1.2.0",
            "_model_name": "LayoutModel",
            "_view_count": null,
            "_view_module": "@jupyter-widgets/base",
            "_view_module_version": "1.2.0",
            "_view_name": "LayoutView",
            "align_content": null,
            "align_items": null,
            "align_self": null,
            "border": null,
            "bottom": null,
            "display": null,
            "flex": null,
            "flex_flow": null,
            "grid_area": null,
            "grid_auto_columns": null,
            "grid_auto_flow": null,
            "grid_auto_rows": null,
            "grid_column": null,
            "grid_gap": null,
            "grid_row": null,
            "grid_template_areas": null,
            "grid_template_columns": null,
            "grid_template_rows": null,
            "height": null,
            "justify_content": null,
            "justify_items": null,
            "left": null,
            "margin": null,
            "max_height": null,
            "max_width": null,
            "min_height": null,
            "min_width": null,
            "object_fit": null,
            "object_position": null,
            "order": null,
            "overflow": null,
            "overflow_x": null,
            "overflow_y": null,
            "padding": null,
            "right": null,
            "top": null,
            "visibility": null,
            "width": null
          }
        },
        "5df90e3de60c4ff0a273accba90b2b6f": {
          "model_module": "@jupyter-widgets/controls",
          "model_name": "ProgressStyleModel",
          "model_module_version": "1.5.0",
          "state": {
            "_model_module": "@jupyter-widgets/controls",
            "_model_module_version": "1.5.0",
            "_model_name": "ProgressStyleModel",
            "_view_count": null,
            "_view_module": "@jupyter-widgets/base",
            "_view_module_version": "1.2.0",
            "_view_name": "StyleView",
            "bar_color": null,
            "description_width": ""
          }
        },
        "f6d54dc4ca0a40fda8a98e8da5a8e15e": {
          "model_module": "@jupyter-widgets/base",
          "model_name": "LayoutModel",
          "model_module_version": "1.2.0",
          "state": {
            "_model_module": "@jupyter-widgets/base",
            "_model_module_version": "1.2.0",
            "_model_name": "LayoutModel",
            "_view_count": null,
            "_view_module": "@jupyter-widgets/base",
            "_view_module_version": "1.2.0",
            "_view_name": "LayoutView",
            "align_content": null,
            "align_items": null,
            "align_self": null,
            "border": null,
            "bottom": null,
            "display": null,
            "flex": null,
            "flex_flow": null,
            "grid_area": null,
            "grid_auto_columns": null,
            "grid_auto_flow": null,
            "grid_auto_rows": null,
            "grid_column": null,
            "grid_gap": null,
            "grid_row": null,
            "grid_template_areas": null,
            "grid_template_columns": null,
            "grid_template_rows": null,
            "height": null,
            "justify_content": null,
            "justify_items": null,
            "left": null,
            "margin": null,
            "max_height": null,
            "max_width": null,
            "min_height": null,
            "min_width": null,
            "object_fit": null,
            "object_position": null,
            "order": null,
            "overflow": null,
            "overflow_x": null,
            "overflow_y": null,
            "padding": null,
            "right": null,
            "top": null,
            "visibility": null,
            "width": null
          }
        },
        "c31678add7f74fbea8c594c7f4903ceb": {
          "model_module": "@jupyter-widgets/controls",
          "model_name": "DescriptionStyleModel",
          "model_module_version": "1.5.0",
          "state": {
            "_model_module": "@jupyter-widgets/controls",
            "_model_module_version": "1.5.0",
            "_model_name": "DescriptionStyleModel",
            "_view_count": null,
            "_view_module": "@jupyter-widgets/base",
            "_view_module_version": "1.2.0",
            "_view_name": "StyleView",
            "description_width": ""
          }
        },
        "eae5887078be471ba9b8d8b6c088e44a": {
          "model_module": "@jupyter-widgets/controls",
          "model_name": "HBoxModel",
          "model_module_version": "1.5.0",
          "state": {
            "_dom_classes": [],
            "_model_module": "@jupyter-widgets/controls",
            "_model_module_version": "1.5.0",
            "_model_name": "HBoxModel",
            "_view_count": null,
            "_view_module": "@jupyter-widgets/controls",
            "_view_module_version": "1.5.0",
            "_view_name": "HBoxView",
            "box_style": "",
            "children": [
              "IPY_MODEL_0f581677c93d430eaf75f5718fac8630",
              "IPY_MODEL_c2e55fe39f3540d793b9106166661a91",
              "IPY_MODEL_5274ff98630e4994b04cc6e7a17c7b1e"
            ],
            "layout": "IPY_MODEL_946151386f554b7297eb007bda265e24"
          }
        },
        "0f581677c93d430eaf75f5718fac8630": {
          "model_module": "@jupyter-widgets/controls",
          "model_name": "HTMLModel",
          "model_module_version": "1.5.0",
          "state": {
            "_dom_classes": [],
            "_model_module": "@jupyter-widgets/controls",
            "_model_module_version": "1.5.0",
            "_model_name": "HTMLModel",
            "_view_count": null,
            "_view_module": "@jupyter-widgets/controls",
            "_view_module_version": "1.5.0",
            "_view_name": "HTMLView",
            "description": "",
            "description_tooltip": null,
            "layout": "IPY_MODEL_504adfb37768481cb5bc6f98f367d4ea",
            "placeholder": "​",
            "style": "IPY_MODEL_9a2c58375b6f4fee8b4583bc5d40a82f",
            "value": "model.safetensors: 100%"
          }
        },
        "c2e55fe39f3540d793b9106166661a91": {
          "model_module": "@jupyter-widgets/controls",
          "model_name": "FloatProgressModel",
          "model_module_version": "1.5.0",
          "state": {
            "_dom_classes": [],
            "_model_module": "@jupyter-widgets/controls",
            "_model_module_version": "1.5.0",
            "_model_name": "FloatProgressModel",
            "_view_count": null,
            "_view_module": "@jupyter-widgets/controls",
            "_view_module_version": "1.5.0",
            "_view_name": "ProgressView",
            "bar_style": "success",
            "description": "",
            "description_tooltip": null,
            "layout": "IPY_MODEL_2105f579804d4a2cbd63aa1d441f0968",
            "max": 7365554624,
            "min": 0,
            "orientation": "horizontal",
            "style": "IPY_MODEL_a948686e76b54030a1ca576a8a313372",
            "value": 7365554624
          }
        },
        "5274ff98630e4994b04cc6e7a17c7b1e": {
          "model_module": "@jupyter-widgets/controls",
          "model_name": "HTMLModel",
          "model_module_version": "1.5.0",
          "state": {
            "_dom_classes": [],
            "_model_module": "@jupyter-widgets/controls",
            "_model_module_version": "1.5.0",
            "_model_name": "HTMLModel",
            "_view_count": null,
            "_view_module": "@jupyter-widgets/controls",
            "_view_module_version": "1.5.0",
            "_view_name": "HTMLView",
            "description": "",
            "description_tooltip": null,
            "layout": "IPY_MODEL_6a29230432c34028adebb1123ed216e7",
            "placeholder": "​",
            "style": "IPY_MODEL_e896265a7e034bd19f19fc94c24f6993",
            "value": " 7.37G/7.37G [01:21&lt;00:00, 200MB/s]"
          }
        },
        "946151386f554b7297eb007bda265e24": {
          "model_module": "@jupyter-widgets/base",
          "model_name": "LayoutModel",
          "model_module_version": "1.2.0",
          "state": {
            "_model_module": "@jupyter-widgets/base",
            "_model_module_version": "1.2.0",
            "_model_name": "LayoutModel",
            "_view_count": null,
            "_view_module": "@jupyter-widgets/base",
            "_view_module_version": "1.2.0",
            "_view_name": "LayoutView",
            "align_content": null,
            "align_items": null,
            "align_self": null,
            "border": null,
            "bottom": null,
            "display": null,
            "flex": null,
            "flex_flow": null,
            "grid_area": null,
            "grid_auto_columns": null,
            "grid_auto_flow": null,
            "grid_auto_rows": null,
            "grid_column": null,
            "grid_gap": null,
            "grid_row": null,
            "grid_template_areas": null,
            "grid_template_columns": null,
            "grid_template_rows": null,
            "height": null,
            "justify_content": null,
            "justify_items": null,
            "left": null,
            "margin": null,
            "max_height": null,
            "max_width": null,
            "min_height": null,
            "min_width": null,
            "object_fit": null,
            "object_position": null,
            "order": null,
            "overflow": null,
            "overflow_x": null,
            "overflow_y": null,
            "padding": null,
            "right": null,
            "top": null,
            "visibility": null,
            "width": null
          }
        },
        "504adfb37768481cb5bc6f98f367d4ea": {
          "model_module": "@jupyter-widgets/base",
          "model_name": "LayoutModel",
          "model_module_version": "1.2.0",
          "state": {
            "_model_module": "@jupyter-widgets/base",
            "_model_module_version": "1.2.0",
            "_model_name": "LayoutModel",
            "_view_count": null,
            "_view_module": "@jupyter-widgets/base",
            "_view_module_version": "1.2.0",
            "_view_name": "LayoutView",
            "align_content": null,
            "align_items": null,
            "align_self": null,
            "border": null,
            "bottom": null,
            "display": null,
            "flex": null,
            "flex_flow": null,
            "grid_area": null,
            "grid_auto_columns": null,
            "grid_auto_flow": null,
            "grid_auto_rows": null,
            "grid_column": null,
            "grid_gap": null,
            "grid_row": null,
            "grid_template_areas": null,
            "grid_template_columns": null,
            "grid_template_rows": null,
            "height": null,
            "justify_content": null,
            "justify_items": null,
            "left": null,
            "margin": null,
            "max_height": null,
            "max_width": null,
            "min_height": null,
            "min_width": null,
            "object_fit": null,
            "object_position": null,
            "order": null,
            "overflow": null,
            "overflow_x": null,
            "overflow_y": null,
            "padding": null,
            "right": null,
            "top": null,
            "visibility": null,
            "width": null
          }
        },
        "9a2c58375b6f4fee8b4583bc5d40a82f": {
          "model_module": "@jupyter-widgets/controls",
          "model_name": "DescriptionStyleModel",
          "model_module_version": "1.5.0",
          "state": {
            "_model_module": "@jupyter-widgets/controls",
            "_model_module_version": "1.5.0",
            "_model_name": "DescriptionStyleModel",
            "_view_count": null,
            "_view_module": "@jupyter-widgets/base",
            "_view_module_version": "1.2.0",
            "_view_name": "StyleView",
            "description_width": ""
          }
        },
        "2105f579804d4a2cbd63aa1d441f0968": {
          "model_module": "@jupyter-widgets/base",
          "model_name": "LayoutModel",
          "model_module_version": "1.2.0",
          "state": {
            "_model_module": "@jupyter-widgets/base",
            "_model_module_version": "1.2.0",
            "_model_name": "LayoutModel",
            "_view_count": null,
            "_view_module": "@jupyter-widgets/base",
            "_view_module_version": "1.2.0",
            "_view_name": "LayoutView",
            "align_content": null,
            "align_items": null,
            "align_self": null,
            "border": null,
            "bottom": null,
            "display": null,
            "flex": null,
            "flex_flow": null,
            "grid_area": null,
            "grid_auto_columns": null,
            "grid_auto_flow": null,
            "grid_auto_rows": null,
            "grid_column": null,
            "grid_gap": null,
            "grid_row": null,
            "grid_template_areas": null,
            "grid_template_columns": null,
            "grid_template_rows": null,
            "height": null,
            "justify_content": null,
            "justify_items": null,
            "left": null,
            "margin": null,
            "max_height": null,
            "max_width": null,
            "min_height": null,
            "min_width": null,
            "object_fit": null,
            "object_position": null,
            "order": null,
            "overflow": null,
            "overflow_x": null,
            "overflow_y": null,
            "padding": null,
            "right": null,
            "top": null,
            "visibility": null,
            "width": null
          }
        },
        "a948686e76b54030a1ca576a8a313372": {
          "model_module": "@jupyter-widgets/controls",
          "model_name": "ProgressStyleModel",
          "model_module_version": "1.5.0",
          "state": {
            "_model_module": "@jupyter-widgets/controls",
            "_model_module_version": "1.5.0",
            "_model_name": "ProgressStyleModel",
            "_view_count": null,
            "_view_module": "@jupyter-widgets/base",
            "_view_module_version": "1.2.0",
            "_view_name": "StyleView",
            "bar_color": null,
            "description_width": ""
          }
        },
        "6a29230432c34028adebb1123ed216e7": {
          "model_module": "@jupyter-widgets/base",
          "model_name": "LayoutModel",
          "model_module_version": "1.2.0",
          "state": {
            "_model_module": "@jupyter-widgets/base",
            "_model_module_version": "1.2.0",
            "_model_name": "LayoutModel",
            "_view_count": null,
            "_view_module": "@jupyter-widgets/base",
            "_view_module_version": "1.2.0",
            "_view_name": "LayoutView",
            "align_content": null,
            "align_items": null,
            "align_self": null,
            "border": null,
            "bottom": null,
            "display": null,
            "flex": null,
            "flex_flow": null,
            "grid_area": null,
            "grid_auto_columns": null,
            "grid_auto_flow": null,
            "grid_auto_rows": null,
            "grid_column": null,
            "grid_gap": null,
            "grid_row": null,
            "grid_template_areas": null,
            "grid_template_columns": null,
            "grid_template_rows": null,
            "height": null,
            "justify_content": null,
            "justify_items": null,
            "left": null,
            "margin": null,
            "max_height": null,
            "max_width": null,
            "min_height": null,
            "min_width": null,
            "object_fit": null,
            "object_position": null,
            "order": null,
            "overflow": null,
            "overflow_x": null,
            "overflow_y": null,
            "padding": null,
            "right": null,
            "top": null,
            "visibility": null,
            "width": null
          }
        },
        "e896265a7e034bd19f19fc94c24f6993": {
          "model_module": "@jupyter-widgets/controls",
          "model_name": "DescriptionStyleModel",
          "model_module_version": "1.5.0",
          "state": {
            "_model_module": "@jupyter-widgets/controls",
            "_model_module_version": "1.5.0",
            "_model_name": "DescriptionStyleModel",
            "_view_count": null,
            "_view_module": "@jupyter-widgets/base",
            "_view_module_version": "1.2.0",
            "_view_name": "StyleView",
            "description_width": ""
          }
        }
      }
    }
  },
  "cells": [
    {
      "cell_type": "markdown",
      "metadata": {
        "id": "view-in-github",
        "colab_type": "text"
      },
      "source": [
        "<a href=\"https://colab.research.google.com/github/uhey77/simplechat/blob/main/Untitled2.ipynb\" target=\"_parent\"><img src=\"https://colab.research.google.com/assets/colab-badge.svg\" alt=\"Open In Colab\"/></a>"
      ]
    },
    {
      "cell_type": "markdown",
      "source": [
        "# GitHub の Clone"
      ],
      "metadata": {
        "id": "ItMrnM_UsrJX"
      }
    },
    {
      "cell_type": "code",
      "execution_count": 1,
      "metadata": {
        "colab": {
          "base_uri": "https://localhost:8080/"
        },
        "id": "xc5T0AnRsqkt",
        "outputId": "cf70b2a3-8b5e-4009-925d-f31957a2952f"
      },
      "outputs": [
        {
          "output_type": "stream",
          "name": "stdout",
          "text": [
            "Cloning into 'simplechat'...\n",
            "remote: Enumerating objects: 123, done.\u001b[K\n",
            "remote: Counting objects: 100% (50/50), done.\u001b[K\n",
            "remote: Compressing objects: 100% (15/15), done.\u001b[K\n",
            "remote: Total 123 (delta 41), reused 35 (delta 35), pack-reused 73 (from 2)\u001b[K\n",
            "Receiving objects: 100% (123/123), 178.48 KiB | 2.59 MiB/s, done.\n",
            "Resolving deltas: 100% (55/55), done.\n"
          ]
        }
      ],
      "source": [
        "!git clone https://github.com/uhey77/simplechat"
      ]
    },
    {
      "cell_type": "code",
      "source": [
        "!pip install python-dotenv\n",
        "from dotenv import load_dotenv, find_dotenv\n",
        "\n",
        "%cd /content/simplechat\n",
        "load_dotenv(find_dotenv())"
      ],
      "metadata": {
        "colab": {
          "base_uri": "https://localhost:8080/"
        },
        "id": "Zpf8Ax0MvCPb",
        "outputId": "dc68a752-f3ba-4f6f-eabb-aa839b5b37e9"
      },
      "execution_count": 2,
      "outputs": [
        {
          "output_type": "stream",
          "name": "stdout",
          "text": [
            "Collecting python-dotenv\n",
            "  Downloading python_dotenv-1.1.0-py3-none-any.whl.metadata (24 kB)\n",
            "Downloading python_dotenv-1.1.0-py3-none-any.whl (20 kB)\n",
            "Installing collected packages: python-dotenv\n",
            "Successfully installed python-dotenv-1.1.0\n",
            "/content/simplechat\n"
          ]
        },
        {
          "output_type": "execute_result",
          "data": {
            "text/plain": [
              "True"
            ]
          },
          "metadata": {},
          "execution_count": 2
        }
      ]
    },
    {
      "cell_type": "markdown",
      "source": [
        "# FastAPI"
      ],
      "metadata": {
        "id": "IH2gvX-qtH3g"
      }
    },
    {
      "cell_type": "code",
      "source": [
        "%%capture\n",
        "!pip install -r requirements.txt"
      ],
      "metadata": {
        "id": "L5zQYRN-txZX"
      },
      "execution_count": 21,
      "outputs": []
    },
    {
      "cell_type": "code",
      "source": [
        "%cd /content/simplechat/lambda/"
      ],
      "metadata": {
        "colab": {
          "base_uri": "https://localhost:8080/"
        },
        "id": "Wgx8kXc_wE8c",
        "outputId": "b9561003-52a5-4a29-caff-a3a3df3b3416"
      },
      "execution_count": 5,
      "outputs": [
        {
          "output_type": "stream",
          "name": "stdout",
          "text": [
            "/content/simplechat/lambda\n"
          ]
        }
      ]
    },
    {
      "cell_type": "code",
      "source": [
        "%%capture\n",
        "!pip install -r requirements.txt"
      ],
      "metadata": {
        "id": "bGGVQ2hJwLF4"
      },
      "execution_count": 6,
      "outputs": []
    },
    {
      "cell_type": "code",
      "source": [
        "!ngrok authtoken $$NGROK_TOKEN"
      ],
      "metadata": {
        "colab": {
          "base_uri": "https://localhost:8080/"
        },
        "id": "UCGG2L2qvzQn",
        "outputId": "542d557e-6115-4bfb-a85c-8740108f299d"
      },
      "execution_count": 22,
      "outputs": [
        {
          "output_type": "stream",
          "name": "stdout",
          "text": [
            "Authtoken saved to configuration file: /root/.config/ngrok/ngrok.yml\n"
          ]
        }
      ]
    },
    {
      "cell_type": "code",
      "source": [
        "import nest_asyncio, uvicorn, os, json\n",
        "from fastapi import FastAPI\n",
        "from pydantic import BaseModel\n",
        "from pyngrok import ngrok\n",
        "\n",
        "nest_asyncio.apply()\n",
        "app = FastAPI()\n",
        "\n",
        "# ----- 独自モデルのロード例 -----------------\n",
        "# ここでは単純なエコーモデル (message -> \"You said: ...\")\n",
        "def run_model(message:str) -> str:\n",
        "    return f\"You said: {message}\"\n",
        "# -------------------------------------------\n",
        "\n",
        "class Msg(BaseModel):\n",
        "    message: str\n",
        "\n",
        "@app.post(\"/generate\")\n",
        "def generate(req: Msg):\n",
        "    return {\"response\": run_model(req.message)}\n",
        "\n",
        "# ngrok で HTTPS 公開\n",
        "public_url = ngrok.connect(8000, \"http\").public_url\n",
        "print(\"PUBLIC URL:\", public_url)\n",
        "\n",
        "uvicorn.run(app, host=\"0.0.0.0\", port=8000)"
      ],
      "metadata": {
        "colab": {
          "base_uri": "https://localhost:8080/"
        },
        "id": "twNCpn_Stz7S",
        "outputId": "78f91c11-e6c7-4769-de23-7fb9da9e7692"
      },
      "execution_count": 30,
      "outputs": [
        {
          "output_type": "stream",
          "name": "stdout",
          "text": [
            "PUBLIC URL: https://080c-34-172-59-183.ngrok-free.app\n"
          ]
        },
        {
          "output_type": "stream",
          "name": "stderr",
          "text": [
            "INFO:     Started server process [170]\n",
            "INFO:     Waiting for application startup.\n",
            "INFO:     Application startup complete.\n",
            "INFO:     Uvicorn running on http://0.0.0.0:8000 (Press CTRL+C to quit)\n"
          ]
        },
        {
          "output_type": "stream",
          "name": "stdout",
          "text": [
            "INFO:     58.5.72.119:0 - \"GET / HTTP/1.1\" 404 Not Found\n",
            "INFO:     58.5.72.119:0 - \"GET /favicon.ico HTTP/1.1\" 404 Not Found\n"
          ]
        },
        {
          "output_type": "stream",
          "name": "stderr",
          "text": [
            "INFO:     Shutting down\n",
            "INFO:     Waiting for application shutdown.\n",
            "INFO:     Application shutdown complete.\n",
            "INFO:     Finished server process [170]\n"
          ]
        }
      ]
    },
    {
      "cell_type": "code",
      "source": [
        "%%writefile local_llm_api.py\n",
        "# ↑ファイル名は何でもOK。ここでは local_llm_api.py\n",
        "\n",
        "import os, time, json, traceback\n",
        "import torch\n",
        "from transformers import pipeline\n",
        "from fastapi import FastAPI, HTTPException\n",
        "from fastapi.middleware.cors import CORSMiddleware\n",
        "from pydantic import BaseModel\n",
        "import uvicorn, nest_asyncio\n",
        "from pyngrok import ngrok\n",
        "\n",
        "MODEL_NAME = \"rinna/japanese-gpt-neox-3.6b-instruction-ppo\"\n",
        "\n",
        "app = FastAPI()\n",
        "app.add_middleware(CORSMiddleware, allow_origins=[\"*\"], allow_methods=[\"*\"], allow_headers=[\"*\"])\n",
        "\n",
        "class SimpleGenerationRequest(BaseModel):\n",
        "    prompt: str\n",
        "    max_new_tokens: int = 128\n",
        "\n",
        "class GenerationResponse(BaseModel):\n",
        "    generated_text: str\n",
        "    response_time: float\n",
        "\n",
        "model = None\n",
        "\n",
        "def load_model():\n",
        "    global model\n",
        "    device = \"cuda\" if torch.cuda.is_available() else \"cpu\"\n",
        "    model = pipeline(\"text-generation\", model=MODEL_NAME, device=device)\n",
        "\n",
        "@app.on_event(\"startup\")\n",
        "async def startup():\n",
        "    load_model()\n",
        "\n",
        "@app.post(\"/generate\", response_model=GenerationResponse)\n",
        "async def generate(req: SimpleGenerationRequest):\n",
        "    if model is None:\n",
        "        raise HTTPException(status_code=503, detail=\"model not ready\")\n",
        "    start = time.time()\n",
        "    out = model(req.prompt, max_new_tokens=req.max_new_tokens)\n",
        "    text = out[0][\"generated_text\"]\n",
        "    return GenerationResponse(generated_text=text, response_time=time.time()-start)\n",
        "\n",
        "def run_with_ngrok(port=8501):\n",
        "    nest_asyncio.apply()\n",
        "    token = os.environ.get(\"NGROK_TOKEN\")\n",
        "    if not token:\n",
        "        raise RuntimeError(\"NGROK_TOKEN 環境変数にトークンを入れてください\")\n",
        "    ngrok.set_auth_token(token)\n",
        "    public_url = ngrok.connect(port).public_url\n",
        "    print(\"✅ 公開URL:\", public_url)\n",
        "    print(\"Swagger UI:\", public_url + \"/docs\")\n",
        "    uvicorn.run(app, host=\"0.0.0.0\", port=port)\n",
        "\n",
        "if __name__ == \"__main__\":\n",
        "    run_with_ngrok()"
      ],
      "metadata": {
        "colab": {
          "base_uri": "https://localhost:8080/"
        },
        "id": "5AKjBYuPD7t7",
        "outputId": "63e3c14f-0931-4ecb-a5ad-b91fc4f89fe9"
      },
      "execution_count": 45,
      "outputs": [
        {
          "output_type": "stream",
          "name": "stdout",
          "text": [
            "Overwriting local_llm_api.py\n"
          ]
        }
      ]
    },
    {
      "cell_type": "code",
      "source": [
        "# ---- Colab セル A ----\n",
        "%run local_llm_api.py  # ← run_with_ngrok(port=8501) を呼ぶスクリプト"
      ],
      "metadata": {
        "colab": {
          "base_uri": "https://localhost:8080/",
          "height": 309,
          "referenced_widgets": [
            "bc1c161e8b3f416d93086d1691ecefa7",
            "878e456b92c344a3b41a2d5fa5daa6d8",
            "e9b432e4e9dc4d3c97f803c8d271dce0",
            "b9b4f7d656c745de9b943b53a71e0f04",
            "ce1ec9b456dc49e0a6256266f0ddc0e6",
            "0b7e7655a1034e25a0aee8eb3108842e",
            "8e1c89cfcca84ca2a5ee5b877952c3c8",
            "9cf169e3224e4e30953ea263b92afaa0",
            "5df90e3de60c4ff0a273accba90b2b6f",
            "f6d54dc4ca0a40fda8a98e8da5a8e15e",
            "c31678add7f74fbea8c594c7f4903ceb",
            "eae5887078be471ba9b8d8b6c088e44a",
            "0f581677c93d430eaf75f5718fac8630",
            "c2e55fe39f3540d793b9106166661a91",
            "5274ff98630e4994b04cc6e7a17c7b1e",
            "946151386f554b7297eb007bda265e24",
            "504adfb37768481cb5bc6f98f367d4ea",
            "9a2c58375b6f4fee8b4583bc5d40a82f",
            "2105f579804d4a2cbd63aa1d441f0968",
            "a948686e76b54030a1ca576a8a313372",
            "6a29230432c34028adebb1123ed216e7",
            "e896265a7e034bd19f19fc94c24f6993"
          ]
        },
        "id": "nB54Np83BA88",
        "outputId": "1f2872bf-743a-4b90-9750-78a61ea2d7c6"
      },
      "execution_count": null,
      "outputs": [
        {
          "output_type": "stream",
          "name": "stderr",
          "text": [
            "/content/simplechat/local_llm_api.py:32: DeprecationWarning: \n",
            "        on_event is deprecated, use lifespan event handlers instead.\n",
            "\n",
            "        Read more about it in the\n",
            "        [FastAPI docs for Lifespan Events](https://fastapi.tiangolo.com/advanced/events/).\n",
            "        \n",
            "  @app.on_event(\"startup\")\n"
          ]
        },
        {
          "output_type": "stream",
          "name": "stdout",
          "text": [
            "✅ 公開URL: https://b18d-34-172-59-183.ngrok-free.app\n",
            "Swagger UI: https://b18d-34-172-59-183.ngrok-free.app/docs\n"
          ]
        },
        {
          "output_type": "stream",
          "name": "stderr",
          "text": [
            "INFO:     Started server process [170]\n",
            "INFO:     Waiting for application startup.\n"
          ]
        },
        {
          "output_type": "display_data",
          "data": {
            "text/plain": [
              "config.json:   0%|          | 0.00/534 [00:00<?, ?B/s]"
            ],
            "application/vnd.jupyter.widget-view+json": {
              "version_major": 2,
              "version_minor": 0,
              "model_id": "bc1c161e8b3f416d93086d1691ecefa7"
            }
          },
          "metadata": {}
        },
        {
          "output_type": "display_data",
          "data": {
            "text/plain": [
              "model.safetensors:   0%|          | 0.00/7.37G [00:00<?, ?B/s]"
            ],
            "application/vnd.jupyter.widget-view+json": {
              "version_major": 2,
              "version_minor": 0,
              "model_id": "eae5887078be471ba9b8d8b6c088e44a"
            }
          },
          "metadata": {}
        },
        {
          "output_type": "stream",
          "name": "stderr",
          "text": [
            "WARNING:pyngrok.process.ngrok:t=2025-04-28T06:29:25+0000 lvl=warn msg=\"failed to open private leg\" id=5a84e7049b57 privaddr=localhost:8501 err=\"dial tcp 127.0.0.1:8501: connect: connection refused\"\n"
          ]
        }
      ]
    },
    {
      "cell_type": "code",
      "source": [
        "!MODEL_API_URL=https://3f56-34-16-218-226.ngrok-free.app/generate python test.py"
      ],
      "metadata": {
        "colab": {
          "base_uri": "https://localhost:8080/"
        },
        "id": "SWxuGdp-CSCw",
        "outputId": "8af18d37-4fa3-47c5-898e-aeb915ab2d64"
      },
      "execution_count": 21,
      "outputs": [
        {
          "output_type": "stream",
          "name": "stdout",
          "text": [
            "{'statusCode': 200, 'headers': {'Content-Type': 'application/json', 'Access-Control-Allow-Origin': '*', 'Access-Control-Allow-Headers': 'Content-Type,X-Amz-Date,Authorization,X-Api-Key,X-Amz-Security-Token', 'Access-Control-Allow-Methods': 'OPTIONS,POST'}, 'body': '{\"success\": true, \"response\": \"*\\\\n\\\\n\\\\u4eca\\\\u65e5\\\\u306f\\\\u3001\\\\u7d20\\\\u6575\\\\u306a\\\\u51fa\\\\u4f1a\\\\u3044\\\\u3001\\\\u305d\\\\u3057\\\\u3066\\\\u65b0\\\\u3057\\\\u3044\\\\u6311\\\\u6226\\\\u306b\\\\u30ef\\\\u30af\\\\u30ef\\\\u30af\\\\u3059\\\\u308b\\\\u6c17\\\\u6301\\\\u3061\\\\u3067\\\\u3044\\\\u3063\\\\u3071\\\\u3044\\\\uff01\\\\u2728\\\\n\\\\n\\\\u3069\\\\u3093\\\\u306a\\\\u7d20\\\\u6575\\\\u306a\\\\u51fa\\\\u4f1a\\\\u3044\\\\u304c\\\\u3042\\\\u308b\\\\u306e\\\\u3067\\\\u3057\\\\u3087\\\\u3046\\\\u304b\\\\uff1f\\\\ud83d\\\\ude0a\", \"conversationHistory\": [{\"role\": \"user\", \"content\": \"\\\\u3053\\\\u3093\\\\u306b\\\\u3061\\\\u306f\"}, {\"role\": \"assistant\", \"content\": \"*\\\\n\\\\n\\\\u4eca\\\\u65e5\\\\u306f\\\\u3001\\\\u7d20\\\\u6575\\\\u306a\\\\u51fa\\\\u4f1a\\\\u3044\\\\u3001\\\\u305d\\\\u3057\\\\u3066\\\\u65b0\\\\u3057\\\\u3044\\\\u6311\\\\u6226\\\\u306b\\\\u30ef\\\\u30af\\\\u30ef\\\\u30af\\\\u3059\\\\u308b\\\\u6c17\\\\u6301\\\\u3061\\\\u3067\\\\u3044\\\\u3063\\\\u3071\\\\u3044\\\\uff01\\\\u2728\\\\n\\\\n\\\\u3069\\\\u3093\\\\u306a\\\\u7d20\\\\u6575\\\\u306a\\\\u51fa\\\\u4f1a\\\\u3044\\\\u304c\\\\u3042\\\\u308b\\\\u306e\\\\u3067\\\\u3057\\\\u3087\\\\u3046\\\\u304b\\\\uff1f\\\\ud83d\\\\ude0a\"}]}'}\n"
          ]
        }
      ]
    },
    {
      "cell_type": "markdown",
      "source": [],
      "metadata": {
        "id": "gsdehmUcC5zF"
      }
    },
    {
      "cell_type": "code",
      "source": [
        "!python test.py"
      ],
      "metadata": {
        "colab": {
          "base_uri": "https://localhost:8080/"
        },
        "id": "KAl5ku3ZAGhs",
        "outputId": "5f082fa8-e0cc-4651-c1c7-9a9ae1e7c549"
      },
      "execution_count": 22,
      "outputs": [
        {
          "output_type": "stream",
          "name": "stdout",
          "text": [
            "こんにちは\n",
            "こんにちは\n",
            "おはよう\n",
            "おはよう\n",
            "LLMとは\n",
            "Error: The read operation timed out\n",
            "{'statusCode': 500, 'headers': {'Content-Type': 'application/json', 'Access-Control-Allow-Origin': '*', 'Access-Control-Allow-Headers': 'Content-Type,X-Amz-Date,Authorization,X-Api-Key,X-Amz-Security-Token', 'Access-Control-Allow-Methods': 'OPTIONS,POST'}, 'body': '{\"success\": false, \"error\": \"The read operation timed out\"}'}\n"
          ]
        }
      ]
    },
    {
      "cell_type": "code",
      "source": [
        "!curl -I https://3f56-34-16-218-226.ngrok-free.app/docs"
      ],
      "metadata": {
        "colab": {
          "base_uri": "https://localhost:8080/"
        },
        "id": "QyX0NgvrTWy7",
        "outputId": "0d0ff7a3-bd1e-4a1f-bb6c-d3d3aba63892"
      },
      "execution_count": 17,
      "outputs": [
        {
          "output_type": "stream",
          "name": "stdout",
          "text": [
            "HTTP/2 200 \r\n",
            "\u001b[1mcontent-type\u001b[0m: text/html; charset=utf-8\r\n",
            "\u001b[1mdate\u001b[0m: Mon, 28 Apr 2025 07:30:48 GMT\r\n",
            "\u001b[1mngrok-agent-ips\u001b[0m: 34.16.218.226\r\n",
            "\u001b[1mserver\u001b[0m: uvicorn\r\n",
            "\u001b[1mcontent-length\u001b[0m: 955\r\n",
            "\r\n"
          ]
        }
      ]
    },
    {
      "cell_type": "code",
      "source": [
        "from pyngrok import ngrok\n",
        "ngrok.kill()"
      ],
      "metadata": {
        "id": "hOA4iVVRvKgK"
      },
      "execution_count": 4,
      "outputs": []
    },
    {
      "cell_type": "code",
      "source": [
        "!pkill -f ngrok"
      ],
      "metadata": {
        "id": "UPqnOCQZv_sV"
      },
      "execution_count": 5,
      "outputs": []
    },
    {
      "cell_type": "code",
      "source": [],
      "metadata": {
        "id": "dD_EhlrSKBzg"
      },
      "execution_count": null,
      "outputs": []
    }
  ]
}